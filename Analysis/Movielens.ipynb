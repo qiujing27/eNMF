{
 "cells": [
  {
   "cell_type": "code",
   "execution_count": 6,
   "metadata": {},
   "outputs": [],
   "source": [
    "import numpy as np\n",
    "import numpy.linalg as LA\n",
    "import pandas as pd\n",
    "import sys, os\n",
    "sys.path.insert(0, \"../\")\n",
    "from Methods.linalg_utils import normalize_column_pair, project_error\n",
    "\n",
    "def generate_training_and_prediction_mask(train_data_path, all_data_path):\n",
    "    all_movielens_data = np.load(all_data_path)\n",
    "    train_data = np.load(train_data_path)\n",
    "    all_data_mask = (all_movielens_data > 0).astype(int)\n",
    "    known_mask = (train_data > 0).astype(int)\n",
    "    prediction_mask = np.logical_xor(all_data_mask, known_mask)\n",
    "    return known_mask, prediction_mask, all_data_mask, all_movielens_data\n",
    "\n",
    "def create_df_from_result(data_dir, method_name, latent_dims, known_mask, prediction_mask, original_data, mode=None):\n",
    "    # data_dir: /mnt/SSD6/qiujing/NMF/AI_exp/Clean_version/ENMF/Results/Movielens/\n",
    "    df = pd.DataFrame({\"latent_dim\": latent_dims})\n",
    "    error_list = []\n",
    "    relative_error_training_list = []\n",
    "    relative_error_prediction_list = []\n",
    "    left_factor_name = \"U\"\n",
    "    right_factor_name = \"V\"\n",
    "    if method_name == \"ENMFC\":\n",
    "        if mode == \"softImpute\":\n",
    "            left_factor_name = \"U_softimpute\"\n",
    "            right_factor_name = \"V_softimpute\"\n",
    "            \n",
    "    for latent_dim in latent_dims:\n",
    "        data_path = os.path.join(data_dir, method_name, f\"latent_dim_{latent_dim}\", \"1\", f\"{method_name}_Movielens_r_{latent_dim}_default.npy\")\n",
    "        data = np.load(data_path, allow_pickle=True)\n",
    "        error, relative_error_training = project_error(data.all()[\"X\"], data.all()[left_factor_name], data.all()[right_factor_name], known_mask)\n",
    "        #new_prediction_mask = np.logical_or(prediction_mask, known_mask)\n",
    "        new_prediction_mask = prediction_mask\n",
    "        error_predion, relative_error_prediction = project_error(original_data, data.all()[left_factor_name], data.all()[right_factor_name], new_prediction_mask)\n",
    "        relative_error_training_list.append(relative_error_training)\n",
    "        relative_error_prediction_list.append(relative_error_prediction)\n",
    "        print(data.all()[\"U\"].shape)\n",
    "    df[\"re_training\"] = relative_error_training_list\n",
    "    df[\"re_prediction\"] = relative_error_prediction_list\n",
    "    return df"
   ]
  },
  {
   "cell_type": "code",
   "execution_count": 9,
   "metadata": {},
   "outputs": [
    {
     "name": "stdout",
     "output_type": "stream",
     "text": [
      "797758 202451 1000209\n",
      "(6040, 5)\n",
      "(6040, 10)\n",
      "(6040, 15)\n",
      "(6040, 20)\n",
      "(6040, 25)\n",
      "   latent_dim  re_training  re_prediction\n",
      "0           5     0.213549       0.244977\n",
      "1          10     0.199806       0.247862\n",
      "2          15     0.190218       0.252751\n",
      "3          20     0.182325       0.259397\n",
      "4          25     0.175138       0.264356\n",
      "(6040, 5)\n",
      "(6040, 10)\n",
      "(6040, 15)\n",
      "(6040, 20)\n",
      "(6040, 25)\n",
      "   latent_dim  re_training  re_prediction\n",
      "0           5     0.219435       0.247008\n",
      "1          10     0.207521       0.244459\n",
      "2          15     0.199210       0.244417\n",
      "3          20     0.192338       0.245827\n",
      "4          25     0.186001       0.247081\n"
     ]
    }
   ],
   "source": [
    "data_dir = \"/mnt/SSD6/qiujing/NMF/AI_exp/Clean_version/ENMF/Results/Movielens/\"\n",
    "latent_dims = [5, 10, 15, 20, 25]\n",
    "dataset_dir = \"/mnt/SSD6/qiujing/NMF/AI_exp/Clean_version/ENMF/Dataset\"\n",
    "train_data_path = os.path.join(dataset_dir, \"movielens1m_0.8training.npy\")\n",
    "all_data_path = os.path.join(dataset_dir, \"movielens1m.npy\")\n",
    "known_mask, prediction_mask, all_data_mask, all_movielens_data = generate_training_and_prediction_mask(train_data_path, all_data_path)\n",
    "print(np.sum(known_mask), np.sum(prediction_mask), np.sum(all_data_mask))\n",
    "df_columns = create_df_from_result(data_dir, \"ENMFC\", latent_dims, known_mask, prediction_mask, all_movielens_data)\n",
    "print(df_columns)\n",
    "df_columns_impute = create_df_from_result(data_dir, \"ENMFC\", latent_dims, known_mask, prediction_mask, all_movielens_data, mode=\"softImpute\")\n",
    "print(df_columns_impute)"
   ]
  },
  {
   "cell_type": "code",
   "execution_count": 8,
   "metadata": {},
   "outputs": [
    {
     "name": "stdout",
     "output_type": "stream",
     "text": [
      "(6040, 5)\n",
      "(6040, 10)\n",
      "(6040, 15)\n",
      "(6040, 20)\n",
      "(6040, 25)\n",
      "SCD    latent_dim  re_training  re_prediction\n",
      "0           5     0.219602       0.247190\n",
      "1          10     0.208943       0.245309\n",
      "2          15     0.201888       0.245750\n",
      "3          20     0.196196       0.246925\n",
      "4          25     0.191176       0.248183\n",
      "(6040, 5)\n",
      "(6040, 10)\n",
      "(6040, 15)\n",
      "(6040, 20)\n",
      "(6040, 25)\n",
      "ADM    latent_dim  re_training  re_prediction\n",
      "0           5     0.252985       0.278227\n",
      "1          10     0.244707       0.266567\n",
      "2          15     0.239040       0.261437\n",
      "3          20     0.231451       0.255646\n",
      "4          25     0.224205       0.251382\n",
      "(6040, 5)\n",
      "(6040, 10)\n",
      "(6040, 15)\n",
      "(6040, 20)\n",
      "(6040, 25)\n",
      "MUL    latent_dim  re_training  re_prediction\n",
      "0           5     0.219973       0.247638\n",
      "1          10     0.209449       0.245907\n",
      "2          15     0.202461       0.246187\n",
      "3          20     0.196937       0.247414\n",
      "4          25     0.192126       0.248277\n"
     ]
    }
   ],
   "source": [
    "df_columns = create_df_from_result(data_dir, \"SCD\", latent_dims, known_mask, prediction_mask, all_movielens_data)\n",
    "print(\"SCD\", df_columns)\n",
    "df_columns = create_df_from_result(data_dir, \"ADM\", latent_dims, known_mask, prediction_mask, all_movielens_data)\n",
    "print(\"ADM\", df_columns)\n",
    "df_columns = create_df_from_result(data_dir, \"MUL\", latent_dims, known_mask, prediction_mask, all_movielens_data)\n",
    "print(\"MUL\", df_columns)"
   ]
  },
  {
   "cell_type": "code",
   "execution_count": 5,
   "metadata": {},
   "outputs": [
    {
     "data": {
      "text/html": [
       "<div>\n",
       "<style scoped>\n",
       "    .dataframe tbody tr th:only-of-type {\n",
       "        vertical-align: middle;\n",
       "    }\n",
       "\n",
       "    .dataframe tbody tr th {\n",
       "        vertical-align: top;\n",
       "    }\n",
       "\n",
       "    .dataframe thead th {\n",
       "        text-align: right;\n",
       "    }\n",
       "</style>\n",
       "<table border=\"1\" class=\"dataframe\">\n",
       "  <thead>\n",
       "    <tr style=\"text-align: right;\">\n",
       "      <th></th>\n",
       "      <th>latent_dim</th>\n",
       "      <th>re_training</th>\n",
       "      <th>re_prediction</th>\n",
       "    </tr>\n",
       "  </thead>\n",
       "  <tbody>\n",
       "    <tr>\n",
       "      <th>0</th>\n",
       "      <td>5</td>\n",
       "      <td>0.213549</td>\n",
       "      <td>0.244977</td>\n",
       "    </tr>\n",
       "    <tr>\n",
       "      <th>1</th>\n",
       "      <td>10</td>\n",
       "      <td>0.199806</td>\n",
       "      <td>0.247862</td>\n",
       "    </tr>\n",
       "    <tr>\n",
       "      <th>2</th>\n",
       "      <td>15</td>\n",
       "      <td>0.190218</td>\n",
       "      <td>0.252751</td>\n",
       "    </tr>\n",
       "    <tr>\n",
       "      <th>3</th>\n",
       "      <td>20</td>\n",
       "      <td>0.182325</td>\n",
       "      <td>0.259397</td>\n",
       "    </tr>\n",
       "    <tr>\n",
       "      <th>4</th>\n",
       "      <td>25</td>\n",
       "      <td>0.175138</td>\n",
       "      <td>0.264356</td>\n",
       "    </tr>\n",
       "  </tbody>\n",
       "</table>\n",
       "</div>"
      ],
      "text/plain": [
       "   latent_dim  re_training  re_prediction\n",
       "0           5     0.213549       0.244977\n",
       "1          10     0.199806       0.247862\n",
       "2          15     0.190218       0.252751\n",
       "3          20     0.182325       0.259397\n",
       "4          25     0.175138       0.264356"
      ]
     },
     "execution_count": 5,
     "metadata": {},
     "output_type": "execute_result"
    }
   ],
   "source": [
    "df_columns"
   ]
  },
  {
   "cell_type": "code",
   "execution_count": 12,
   "metadata": {},
   "outputs": [
    {
     "data": {
      "text/html": [
       "<div>\n",
       "<style scoped>\n",
       "    .dataframe tbody tr th:only-of-type {\n",
       "        vertical-align: middle;\n",
       "    }\n",
       "\n",
       "    .dataframe tbody tr th {\n",
       "        vertical-align: top;\n",
       "    }\n",
       "\n",
       "    .dataframe thead th {\n",
       "        text-align: right;\n",
       "    }\n",
       "</style>\n",
       "<table border=\"1\" class=\"dataframe\">\n",
       "  <thead>\n",
       "    <tr style=\"text-align: right;\">\n",
       "      <th></th>\n",
       "      <th>latent_dim</th>\n",
       "      <th>re_training</th>\n",
       "      <th>re_prediction</th>\n",
       "    </tr>\n",
       "  </thead>\n",
       "  <tbody>\n",
       "    <tr>\n",
       "      <th>0</th>\n",
       "      <td>5</td>\n",
       "      <td>0.219435</td>\n",
       "      <td>0.247008</td>\n",
       "    </tr>\n",
       "    <tr>\n",
       "      <th>1</th>\n",
       "      <td>10</td>\n",
       "      <td>0.207521</td>\n",
       "      <td>0.244459</td>\n",
       "    </tr>\n",
       "    <tr>\n",
       "      <th>2</th>\n",
       "      <td>15</td>\n",
       "      <td>0.199210</td>\n",
       "      <td>0.244417</td>\n",
       "    </tr>\n",
       "    <tr>\n",
       "      <th>3</th>\n",
       "      <td>20</td>\n",
       "      <td>0.192338</td>\n",
       "      <td>0.245827</td>\n",
       "    </tr>\n",
       "    <tr>\n",
       "      <th>4</th>\n",
       "      <td>25</td>\n",
       "      <td>0.186001</td>\n",
       "      <td>0.247081</td>\n",
       "    </tr>\n",
       "  </tbody>\n",
       "</table>\n",
       "</div>"
      ],
      "text/plain": [
       "   latent_dim  re_training  re_prediction\n",
       "0           5     0.219435       0.247008\n",
       "1          10     0.207521       0.244459\n",
       "2          15     0.199210       0.244417\n",
       "3          20     0.192338       0.245827\n",
       "4          25     0.186001       0.247081"
      ]
     },
     "execution_count": 12,
     "metadata": {},
     "output_type": "execute_result"
    }
   ],
   "source": [
    "df_columns_impute"
   ]
  },
  {
   "cell_type": "code",
   "execution_count": 3,
   "metadata": {},
   "outputs": [
    {
     "data": {
      "text/plain": [
       "958.2313551902771"
      ]
     },
     "execution_count": 3,
     "metadata": {},
     "output_type": "execute_result"
    }
   ],
   "source": [
    "\n",
    "df = pd.DataFrame({\"latent_dim\": latent_dims})\n",
    "\n",
    "all_knwown_mask \n",
    "for latent_dim in latent_dims:\n",
    "data_path = f\"/mnt/SSD6/qiujing/NMF/AI_exp/Clean_version/ENMF/Results/Movielens/ENMFC/latent_dim_20/1/ENMFC_Verb_r_20_default.npy\"\n",
    "data = np.load(data_path,  allow_pickle=True)"
   ]
  },
  {
   "cell_type": "code",
   "execution_count": 6,
   "metadata": {},
   "outputs": [
    {
     "name": "stdout",
     "output_type": "stream",
     "text": [
      "(6040, 20) (3706, 20)\n"
     ]
    },
    {
     "data": {
      "text/plain": [
       "(665.4989009986182, 0.19693699917937965)"
      ]
     },
     "execution_count": 6,
     "metadata": {},
     "output_type": "execute_result"
    }
   ],
   "source": [
    "print(data.all()[\"U\"].shape, data.all()[\"V\"].shape)\n",
    "project_error(data.all()[\"X\"], data.all()[\"U\"], data.all()[\"V\"], known_mask)"
   ]
  },
  {
   "cell_type": "code",
   "execution_count": 47,
   "metadata": {},
   "outputs": [],
   "source": []
  },
  {
   "cell_type": "code",
   "execution_count": 51,
   "metadata": {},
   "outputs": [
    {
     "name": "stdout",
     "output_type": "stream",
     "text": [
      "(6040, 20) (3706, 20)\n"
     ]
    }
   ],
   "source": [
    "\n",
    "\n",
    "\n",
    "\n",
    "\n",
    "LA.norm(data.all()[\"X\"])"
   ]
  },
  {
   "cell_type": "code",
   "execution_count": null,
   "metadata": {},
   "outputs": [],
   "source": []
  },
  {
   "cell_type": "code",
   "execution_count": 25,
   "metadata": {},
   "outputs": [
    {
     "data": {
      "text/plain": [
       "0.30443355853871384"
      ]
     },
     "execution_count": 25,
     "metadata": {},
     "output_type": "execute_result"
    }
   ],
   "source": [
    "data.all()[\"enmf_error\"]/LA.norm(data.all()[\"X\"])"
   ]
  },
  {
   "cell_type": "code",
   "execution_count": 52,
   "metadata": {},
   "outputs": [
    {
     "ename": "ImportError",
     "evalue": "cannot import name 'project_error' from 'Methods.linalg_utils' (/mnt/SSD6/qiujing/NMF/AI_exp/Clean_version/ENMF/Experiments/../Methods/linalg_utils.py)",
     "output_type": "error",
     "traceback": [
      "\u001b[0;31m---------------------------------------------------------------------------\u001b[0m",
      "\u001b[0;31mImportError\u001b[0m                               Traceback (most recent call last)",
      "Cell \u001b[0;32mIn[52], line 3\u001b[0m\n\u001b[1;32m      1\u001b[0m \u001b[39mimport\u001b[39;00m \u001b[39msys\u001b[39;00m\n\u001b[1;32m      2\u001b[0m sys\u001b[39m.\u001b[39mpath\u001b[39m.\u001b[39minsert(\u001b[39m0\u001b[39m, \u001b[39m\"\u001b[39m\u001b[39m../\u001b[39m\u001b[39m\"\u001b[39m)\n\u001b[0;32m----> 3\u001b[0m \u001b[39mfrom\u001b[39;00m \u001b[39mMethods\u001b[39;00m\u001b[39m.\u001b[39;00m\u001b[39mlinalg_utils\u001b[39;00m \u001b[39mimport\u001b[39;00m normalize_column_pair, project_error\n\u001b[1;32m      4\u001b[0m \u001b[39m#softImpute_error = data.all()[\"svd_error\"]\u001b[39;00m\n\u001b[1;32m      5\u001b[0m known_mask \u001b[39m=\u001b[39m (data\u001b[39m.\u001b[39mall()[\u001b[39m\"\u001b[39m\u001b[39mX\u001b[39m\u001b[39m\"\u001b[39m] \u001b[39m>\u001b[39m \u001b[39m0\u001b[39m)\u001b[39m.\u001b[39mastype(\u001b[39mint\u001b[39m)\n",
      "\u001b[0;31mImportError\u001b[0m: cannot import name 'project_error' from 'Methods.linalg_utils' (/mnt/SSD6/qiujing/NMF/AI_exp/Clean_version/ENMF/Experiments/../Methods/linalg_utils.py)"
     ]
    }
   ],
   "source": [
    "\n",
    "#softImpute_error = data.all()[\"svd_error\"]\n",
    "known_mask = (data.all()[\"X\"] > 0).astype(int)\n",
    "project_error(data.all()[\"X\"], data.all()[\"U_eig\"], data.all()[\"V_eig\"], known_mask)"
   ]
  },
  {
   "cell_type": "code",
   "execution_count": 46,
   "metadata": {},
   "outputs": [
    {
     "data": {
      "text/plain": [
       "(1028.7564016859758, 0.30443355853871384)"
      ]
     },
     "execution_count": 46,
     "metadata": {},
     "output_type": "execute_result"
    }
   ],
   "source": [
    "project_error(data.all()[\"X\"], data.all()[\"U_nmf\"], data.all()[\"V_nmf\"], known_mask)"
   ]
  },
  {
   "cell_type": "code",
   "execution_count": 42,
   "metadata": {},
   "outputs": [
    {
     "data": {
      "text/plain": [
       "(6040, 3706)"
      ]
     },
     "execution_count": 42,
     "metadata": {},
     "output_type": "execute_result"
    }
   ],
   "source": [
    "known_mask.shape"
   ]
  },
  {
   "cell_type": "code",
   "execution_count": 33,
   "metadata": {},
   "outputs": [
    {
     "data": {
      "text/plain": [
       "(3706, 20)"
      ]
     },
     "execution_count": 33,
     "metadata": {},
     "output_type": "execute_result"
    }
   ],
   "source": [
    "data.all()[\"V_eig\"].shape"
   ]
  },
  {
   "cell_type": "code",
   "execution_count": 31,
   "metadata": {},
   "outputs": [
    {
     "data": {
      "text/plain": [
       "dict_keys(['X', 'U', 'V', 'U_eig', 'V_eig', 't_svd', 'svd_error', 'U_rotate', 'V_rotate', 't_rotate', 'distance_po', 'U_mp', 'V_mp', 't_mp', 'hitmp_error', 'U_nmf', 'V_nmf', 't_nmf', 'enmf_error', 'total_time'])"
      ]
     },
     "execution_count": 31,
     "metadata": {},
     "output_type": "execute_result"
    }
   ],
   "source": [
    "data.all().keys()\n"
   ]
  },
  {
   "cell_type": "code",
   "execution_count": 9,
   "metadata": {},
   "outputs": [
    {
     "data": {
      "text/plain": [
       "array({'X': array([[0., 0., 0., ..., 0., 0., 0.],\n",
       "       [0., 0., 0., ..., 0., 0., 0.],\n",
       "       [0., 0., 0., ..., 0., 0., 0.],\n",
       "       ...,\n",
       "       [0., 0., 0., ..., 0., 0., 0.],\n",
       "       [0., 0., 0., ..., 0., 0., 0.],\n",
       "       [3., 0., 0., ..., 0., 0., 0.]]), 'U': array([[0.15216899, 0.21187553, 0.34761604, ..., 0.27589336, 0.13263873,\n",
       "        0.14322028],\n",
       "       [0.18835826, 0.24551857, 0.37599376, ..., 0.31523816, 0.1628822 ,\n",
       "        0.18120407],\n",
       "       [0.1480152 , 0.1656852 , 0.29339423, ..., 0.27723887, 0.12067121,\n",
       "        0.14721339],\n",
       "       ...,\n",
       "       [0.09747469, 0.14694233, 0.2432369 , ..., 0.18108316, 0.0867908 ,\n",
       "        0.08940028],\n",
       "       [0.19528782, 0.30999783, 0.41756477, ..., 0.28647438, 0.18235901,\n",
       "        0.17763575],\n",
       "       [0.17816883, 0.45905639, 0.56183767, ..., 0.21073227, 0.20363659,\n",
       "        0.12785469]]), 'V': array([[0.31134911, 0.36338928, 0.89240163, ..., 0.79665899, 0.241283  ,\n",
       "        0.30206648],\n",
       "       [0.33717146, 0.36246816, 0.51285884, ..., 0.51846138, 0.28017934,\n",
       "        0.34078616],\n",
       "       [0.31299834, 0.36678912, 0.47628984, ..., 0.4466969 , 0.26836606,\n",
       "        0.31103054],\n",
       "       ...,\n",
       "       [0.12664897, 0.23621313, 0.27528613, ..., 0.14920201, 0.12760935,\n",
       "        0.10894641],\n",
       "       [0.14870386, 0.26568109, 0.31849992, ..., 0.18460772, 0.14692711,\n",
       "        0.13005192],\n",
       "       [0.31998606, 0.4832888 , 0.71272176, ..., 0.52156893, 0.29033971,\n",
       "        0.29487311]]), 'U_eig': array([[ 0.1120032 ,  0.20965259,  0.37717638, ...,  0.28498239,\n",
       "        -0.0094832 ,  0.02650702],\n",
       "       [ 0.14417162,  0.24407322,  0.418321  , ...,  0.32361773,\n",
       "         0.01783934,  0.0563395 ],\n",
       "       [ 0.10876293,  0.16227956,  0.33478578, ...,  0.29021686,\n",
       "        -0.01240935,  0.05880596],\n",
       "       ...,\n",
       "       [ 0.07051965,  0.14544889,  0.25854889, ...,  0.18680061,\n",
       "        -0.01222615,  0.00556733],\n",
       "       [ 0.15500297,  0.31191954,  0.44457662, ...,  0.28517031,\n",
       "         0.05194071,  0.02236024],\n",
       "       [ 0.1444439 ,  0.46695732,  0.53155931, ...,  0.18967445,\n",
       "         0.0735714 , -0.11971092]]), 'V_eig': array([[ 0.18826505,  0.3434992 ,  0.97120454, ...,  0.85562491,\n",
       "        -0.24856313,  0.04030298],\n",
       "       [ 0.26947588,  0.36132762,  0.61376358, ...,  0.53173874,\n",
       "         0.09060559,  0.18442329],\n",
       "       [ 0.25552392,  0.36836215,  0.56094651, ...,  0.45164175,\n",
       "         0.11532092,  0.15561395],\n",
       "       ...,\n",
       "       [ 0.10608553,  0.24029692,  0.28228411, ...,  0.14033662,\n",
       "         0.06622979, -0.00475869],\n",
       "       [ 0.12322214,  0.26969974,  0.33025122, ...,  0.17644346,\n",
       "         0.06976548,  0.00169241],\n",
       "       [ 0.24511218,  0.48283517,  0.7639134 , ...,  0.52911534,\n",
       "         0.03492563,  0.04141952]]), 't_svd': 911.4332792758942, 'svd_error': 8707.33011335209, 'U_rotate': array([[0.15216899, 0.21187553, 0.34761604, ..., 0.27589336, 0.13263873,\n",
       "        0.14322028],\n",
       "       [0.18835826, 0.24551857, 0.37599376, ..., 0.31523816, 0.1628822 ,\n",
       "        0.18120407],\n",
       "       [0.1480152 , 0.1656852 , 0.29339423, ..., 0.27723887, 0.12067121,\n",
       "        0.14721339],\n",
       "       ...,\n",
       "       [0.09747469, 0.14694233, 0.2432369 , ..., 0.18108316, 0.0867908 ,\n",
       "        0.08940028],\n",
       "       [0.19528782, 0.30999783, 0.41756477, ..., 0.28647438, 0.18235901,\n",
       "        0.17763575],\n",
       "       [0.17816883, 0.45905639, 0.56183767, ..., 0.21073227, 0.20363659,\n",
       "        0.12785469]]), 'V_rotate': array([[0.31134911, 0.36338928, 0.89240163, ..., 0.79665899, 0.241283  ,\n",
       "        0.30206648],\n",
       "       [0.33717146, 0.36246816, 0.51285884, ..., 0.51846138, 0.28017934,\n",
       "        0.34078616],\n",
       "       [0.31299834, 0.36678912, 0.47628984, ..., 0.4466969 , 0.26836606,\n",
       "        0.31103054],\n",
       "       ...,\n",
       "       [0.12664897, 0.23621313, 0.27528613, ..., 0.14920201, 0.12760935,\n",
       "        0.10894641],\n",
       "       [0.14870386, 0.26568109, 0.31849992, ..., 0.18460772, 0.14692711,\n",
       "        0.13005192],\n",
       "       [0.31998606, 0.4832888 , 0.71272176, ..., 0.52156893, 0.29033971,\n",
       "        0.29487311]]), 't_rotate': 46.7977397441864, 'distance_po': 0.0, 'U_mp': array([[0.15216899, 0.21187553, 0.34761604, ..., 0.27589336, 0.13263873,\n",
       "        0.14322028],\n",
       "       [0.18835826, 0.24551857, 0.37599376, ..., 0.31523816, 0.1628822 ,\n",
       "        0.18120407],\n",
       "       [0.1480152 , 0.1656852 , 0.29339423, ..., 0.27723887, 0.12067121,\n",
       "        0.14721339],\n",
       "       ...,\n",
       "       [0.09747469, 0.14694233, 0.2432369 , ..., 0.18108316, 0.0867908 ,\n",
       "        0.08940028],\n",
       "       [0.19528782, 0.30999783, 0.41756477, ..., 0.28647438, 0.18235901,\n",
       "        0.17763575],\n",
       "       [0.17816883, 0.45905639, 0.56183767, ..., 0.21073227, 0.20363659,\n",
       "        0.12785469]]), 'V_mp': array([[0.31134911, 0.36338928, 0.89240163, ..., 0.79665899, 0.241283  ,\n",
       "        0.30206648],\n",
       "       [0.33717146, 0.36246816, 0.51285884, ..., 0.51846138, 0.28017934,\n",
       "        0.34078616],\n",
       "       [0.31299834, 0.36678912, 0.47628984, ..., 0.4466969 , 0.26836606,\n",
       "        0.31103054],\n",
       "       ...,\n",
       "       [0.12664897, 0.23621313, 0.27528613, ..., 0.14920201, 0.12760935,\n",
       "        0.10894641],\n",
       "       [0.14870386, 0.26568109, 0.31849992, ..., 0.18460772, 0.14692711,\n",
       "        0.13005192],\n",
       "       [0.31998606, 0.4832888 , 0.71272176, ..., 0.52156893, 0.29033971,\n",
       "        0.29487311]]), 't_mp': 0.0003361701965332031, 'hitmp_error': 8707.330113352096, 'U_nmf': array([[0.15216899, 0.21187553, 0.34761604, ..., 0.27589336, 0.13263873,\n",
       "        0.14322028],\n",
       "       [0.18835826, 0.24551857, 0.37599376, ..., 0.31523816, 0.1628822 ,\n",
       "        0.18120407],\n",
       "       [0.1480152 , 0.1656852 , 0.29339423, ..., 0.27723887, 0.12067121,\n",
       "        0.14721339],\n",
       "       ...,\n",
       "       [0.09747469, 0.14694233, 0.2432369 , ..., 0.18108316, 0.0867908 ,\n",
       "        0.08940028],\n",
       "       [0.19528782, 0.30999783, 0.41756477, ..., 0.28647438, 0.18235901,\n",
       "        0.17763575],\n",
       "       [0.17816883, 0.45905639, 0.56183767, ..., 0.21073227, 0.20363659,\n",
       "        0.12785469]]), 'V_nmf': array([[0.31134911, 0.36338928, 0.89240163, ..., 0.79665899, 0.241283  ,\n",
       "        0.30206648],\n",
       "       [0.33717146, 0.36246816, 0.51285884, ..., 0.51846138, 0.28017934,\n",
       "        0.34078616],\n",
       "       [0.31299834, 0.36678912, 0.47628984, ..., 0.4466969 , 0.26836606,\n",
       "        0.31103054],\n",
       "       ...,\n",
       "       [0.12664897, 0.23621313, 0.27528613, ..., 0.14920201, 0.12760935,\n",
       "        0.10894641],\n",
       "       [0.14870386, 0.26568109, 0.31849992, ..., 0.18460772, 0.14692711,\n",
       "        0.13005192],\n",
       "       [0.31998606, 0.4832888 , 0.71272176, ..., 0.52156893, 0.29033971,\n",
       "        0.29487311]]), 't_nmf': 0, 'enmf_error': 1028.7564016859758, 'total_time': 958.2313551902771},\n",
       "      dtype=object)"
      ]
     },
     "execution_count": 9,
     "metadata": {},
     "output_type": "execute_result"
    }
   ],
   "source": [
    "for latent_dim in [5, 10, 15, 20, 25]:\n",
    "    "
   ]
  },
  {
   "cell_type": "code",
   "execution_count": null,
   "metadata": {},
   "outputs": [],
   "source": [
    "# Create a df with latent_r as row, [enmf MUL, ADM, softImputeALS] as column\n",
    "\n",
    "import pandas as pd\n",
    "\n",
    "data.to_csv('YOUR_FILE/HERE.csv')"
   ]
  },
  {
   "cell_type": "code",
   "execution_count": null,
   "metadata": {},
   "outputs": [],
   "source": []
  },
  {
   "cell_type": "code",
   "execution_count": null,
   "metadata": {},
   "outputs": [],
   "source": []
  },
  {
   "cell_type": "code",
   "execution_count": null,
   "metadata": {},
   "outputs": [],
   "source": []
  }
 ],
 "metadata": {
  "kernelspec": {
   "display_name": "Python 3",
   "language": "python",
   "name": "python3"
  },
  "language_info": {
   "codemirror_mode": {
    "name": "ipython",
    "version": 3
   },
   "file_extension": ".py",
   "mimetype": "text/x-python",
   "name": "python",
   "nbconvert_exporter": "python",
   "pygments_lexer": "ipython3",
   "version": "3.10.6"
  },
  "orig_nbformat": 4,
  "vscode": {
   "interpreter": {
    "hash": "916dbcbb3f70747c44a77c7bcd40155683ae19c65e1c03b4aa3499c5328201f1"
   }
  }
 },
 "nbformat": 4,
 "nbformat_minor": 2
}
