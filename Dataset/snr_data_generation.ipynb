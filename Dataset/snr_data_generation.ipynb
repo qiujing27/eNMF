{
 "cells": [
  {
   "cell_type": "code",
   "execution_count": 30,
   "metadata": {},
   "outputs": [],
   "source": [
    "## This is used to generate data with different SNR:\n",
    "\"\"\"\n",
    "W, H: Uniform (0, 1), \n",
    "N ∈ R5000×5000 by sampling randomly from N(0,0.01^2),\n",
    "gen- erate the data matrix using X = WH +N. \n",
    "\"\"\"\n",
    "import numpy as np\n",
    "import matplotlib.pylab as plt\n",
    "import scipy.io as sio"
   ]
  },
  {
   "cell_type": "code",
   "execution_count": null,
   "metadata": {},
   "outputs": [
    {
     "name": "stdout",
     "output_type": "stream",
     "text": [
      "48.302528484433324 6.950002049239505 0.00014388484966122042\n",
      "48.96162159591103 6.997258148440076 0.001429131209376538\n",
      "47.77393208486742 6.9118689285075 0.014467866945155353\n",
      "49.15394481681801 7.010987435220378 0.05705330435917786\n",
      "49.49241067470729 7.035084269197299 0.09950129567955691\n"
     ]
    }
   ],
   "source": [
    "noise_level_std = [0.001, 0.01, 0.1, 0.4, 0.7]\n",
    "data_dir = \"../Dataset/syn_dataset/\"\n",
    "for i in range(5):\n",
    "    np.random.seed(i)\n",
    "    N = np.random.normal(0, noise_level_std[i], (5000, 5000))\n",
    "    W = np.random.uniform(0, 1, (5000, 1000))\n",
    "    H = np.random.uniform(0, 1, (1000, 5000))\n",
    "    snr_val = noise_level_std[i]/np.std(W@H)\n",
    "    print(np.var(W@H), np.std(W@H), snr_val)\n",
    "    X = np.abs(W @ H + N) \n",
    "    tmp_res = {}\n",
    "    tmp_res['X'] = X\n",
    "    tmp_res['W'] = W\n",
    "    tmp_res['H'] = H\n",
    "    tmp_res['N'] = N\n",
    "    np.save(f\"{data_dir}syn_noise_{snr_val:.5f}_all.npy\", tmp_res)\n",
    "    np.save(f\"{data_dir}syn_noise_{snr_val:.5f}_X.npy\", X)\n",
    "    sio.savemat(f'{data_dir}syn_noise_{snr_val:.5f}.mat', {'X':X})"
   ]
  },
  {
   "cell_type": "code",
   "execution_count": null,
   "metadata": {},
   "outputs": [
    {
     "name": "stdout",
     "output_type": "stream",
     "text": [
      "214.60294010817262 0.00014\n",
      "latent dim  50\n",
      "min and max val of ueig  -0.061605192291771284 0.07035247035349416\n",
      "min and max val of veig and s[-4:] -0.06146765943392927 0.060538564501377186 [6.88525942e+02 6.93148634e+02 6.96989453e+02 1.25075690e+06]\n",
      "error given by svd: 12341.52937837046\n",
      "latent dim  100\n",
      "min and max val of ueig  -0.07035247035349397 0.06633461440034422\n",
      "min and max val of veig and s[-4:] -0.06215499947916083 0.06146765943394809 [6.88525942e+02 6.93148634e+02 6.96989453e+02 1.25075690e+06]\n",
      "error given by svd: 11572.713066107794\n",
      "latent dim  200\n",
      "min and max val of ueig  -0.0703524703534957 0.06593307039897037\n",
      "min and max val of veig and s[-4:] -0.06442579024966776 0.06427308152168815 [6.88525942e+02 6.93148634e+02 6.96989453e+02 1.25075690e+06]\n",
      "error given by svd: 10163.311019391267\n",
      "latent dim  400\n",
      "min and max val of ueig  -0.07035247035349274 0.07335661634924884\n",
      "min and max val of veig and s[-4:] -0.0656340988786204 0.07511993560831812 [6.88525942e+02 6.93148634e+02 6.96989453e+02 1.25075690e+06]\n",
      "error given by svd: 7665.080189101503\n",
      "latent dim  500\n",
      "min and max val of ueig  -0.07035247035350595 0.07335661634948214\n",
      "min and max val of veig and s[-4:] -0.06563409887848977 0.07511993560822404 [6.88525942e+02 6.93148634e+02 6.96989453e+02 1.25075690e+06]\n",
      "error given by svd: 6520.3173190439065\n",
      "215.33617988190719 0.00143\n",
      "latent dim  50\n",
      "min and max val of ueig  -0.0685702604393603 0.06591934403906795\n",
      "min and max val of veig and s[-4:] -0.06439310740088575 0.07166917751301104 [6.87471463e+02 6.91467741e+02 6.94756768e+02 1.25015568e+06]\n",
      "error given by svd: 12333.625414384283\n",
      "latent dim  100\n",
      "min and max val of ueig  -0.06857026043931667 0.06591934403906285\n",
      "min and max val of veig and s[-4:] -0.06439310740089602 0.07618540484855599 [6.87471463e+02 6.91467741e+02 6.94756768e+02 1.25015568e+06]\n",
      "error given by svd: 11567.534145831716\n",
      "latent dim  200\n",
      "min and max val of ueig  -0.06479266784409046 0.06857026043932074\n",
      "min and max val of veig and s[-4:] -0.06439310740089892 0.07618540484857031 [6.87471463e+02 6.91467741e+02 6.94756768e+02 1.25015568e+06]\n",
      "error given by svd: 10161.215497574643\n",
      "latent dim  400\n",
      "min and max val of ueig  -0.06857026043932564 0.06692623269335264\n",
      "min and max val of veig and s[-4:] -0.07618540484856486 0.0735351277780548 [6.87471463e+02 6.91467741e+02 6.94756768e+02 1.25015568e+06]\n",
      "error given by svd: 7660.1918188490745\n",
      "latent dim  500\n",
      "min and max val of ueig  -0.07541850293799415 0.07673458031218477\n",
      "min and max val of veig and s[-4:] -0.07353512777804228 0.0761854048485411 [6.87471463e+02 6.91467741e+02 6.94756768e+02 1.25015568e+06]\n",
      "error given by svd: 6516.334103684147\n",
      "217.22295002532178 0.01447\n",
      "latent dim  50\n",
      "min and max val of ueig  -0.058945098080060196 0.06013989622989633\n",
      "min and max val of veig and s[-4:] -0.06254194419386819 0.06308795608563585 [6.88753997e+02 6.92998310e+02 7.00620849e+02 1.25052858e+06]\n",
      "error given by svd: 12354.64901134255\n",
      "latent dim  100\n",
      "min and max val of ueig  -0.06402445518613545 0.06474640772824958\n",
      "min and max val of veig and s[-4:] -0.0702951127950894 0.0650350827823828 [6.88753997e+02 6.92998310e+02 7.00620849e+02 1.25052858e+06]\n",
      "error given by svd: 11585.20094640655\n",
      "latent dim  200\n",
      "min and max val of ueig  -0.06804754667583443 0.06986032201727693\n",
      "min and max val of veig and s[-4:] -0.0706343018168464 0.07366121788341022 [6.88753997e+02 6.92998310e+02 7.00620849e+02 1.25052858e+06]\n",
      "error given by svd: 10172.619515679085\n",
      "latent dim  400\n",
      "min and max val of ueig  -0.06501678730789323 0.06986032201724283\n",
      "min and max val of veig and s[-4:] -0.07366121788344726 0.07063430181649168 [6.88753997e+02 6.92998310e+02 7.00620849e+02 1.25052858e+06]\n",
      "error given by svd: 7674.332346828023\n",
      "latent dim  500\n",
      "min and max val of ueig  -0.06986032201728261 0.067714587734762\n",
      "min and max val of veig and s[-4:] -0.0716252589975413 0.07366121788335678 [6.88753997e+02 6.92998310e+02 7.00620849e+02 1.25052858e+06]\n",
      "error given by svd: 6531.174502818005\n",
      "211.78009503544752 0.05705\n",
      "latent dim  50\n",
      "min and max val of ueig  -0.061319951013263124 0.06162172347850657\n",
      "min and max val of veig and s[-4:] -0.06029774037757177 0.06424068348860408 [6.89085848e+02 6.90970637e+02 6.94924355e+02 1.24974391e+06]\n",
      "error given by svd: 12492.950391516675\n",
      "latent dim  100\n",
      "min and max val of ueig  -0.06664300990075854 0.06352276712485155\n",
      "min and max val of veig and s[-4:] -0.06424068348859978 0.06994232854247241 [6.89085848e+02 6.90970637e+02 6.94924355e+02 1.24974391e+06]\n",
      "error given by svd: 11733.790893688718\n",
      "latent dim  200\n",
      "min and max val of ueig  -0.07432081010126047 0.0696398851853033\n",
      "min and max val of veig and s[-4:] -0.06692136085291697 0.06994232854246238 [6.89085848e+02 6.90970637e+02 6.94924355e+02 1.24974391e+06]\n",
      "error given by svd: 10340.346783243545\n",
      "latent dim  400\n",
      "min and max val of ueig  -0.07004068994773927 0.0743208101010271\n",
      "min and max val of veig and s[-4:] -0.0701683478484064 0.07174980692716874 [6.89085848e+02 6.90970637e+02 6.94924355e+02 1.24974391e+06]\n",
      "error given by svd: 7882.615744743489\n",
      "latent dim  500\n",
      "min and max val of ueig  -0.07138316863980226 0.0743208101009652\n",
      "min and max val of veig and s[-4:] -0.06994232854248664 0.07174980692685826 [6.89085848e+02 6.90970637e+02 6.94924355e+02 1.24974391e+06]\n",
      "error given by svd: 6765.503595831143\n",
      "211.30393137300564 0.0995\n",
      "latent dim  50\n",
      "min and max val of ueig  -0.06501196677579194 0.06387706173472382\n",
      "min and max val of veig and s[-4:] -0.06754427280423807 0.07106734242547473 [6.93577232e+02 6.96519810e+02 6.99156710e+02 1.24984431e+06]\n",
      "error given by svd: 12812.751443827292\n",
      "latent dim  100\n",
      "min and max val of ueig  -0.06387706173471895 0.06501196677601834\n",
      "min and max val of veig and s[-4:] -0.06959968035689341 0.07106734242547126 [6.93577232e+02 6.96519810e+02 6.99156710e+02 1.24984431e+06]\n",
      "error given by svd: 12062.110555829457\n",
      "latent dim  200\n",
      "min and max val of ueig  -0.07013650288237942 0.06837999753983078\n",
      "min and max val of veig and s[-4:] -0.06959968035690643 0.07106734242547524 [6.93577232e+02 6.96519810e+02 6.99156710e+02 1.24984431e+06]\n",
      "error given by svd: 10690.527865466684\n",
      "latent dim  400\n",
      "min and max val of ueig  -0.07013650288237795 0.07021983297948335\n",
      "min and max val of veig and s[-4:] -0.07106734242547294 0.07005970066078027 [6.93577232e+02 6.96519810e+02 6.99156710e+02 1.24984431e+06]\n",
      "error given by svd: 8295.972489509435\n",
      "latent dim  500\n",
      "min and max val of ueig  -0.0684787797344851 0.07021983297947314\n",
      "min and max val of veig and s[-4:] -0.07005970066075366 0.07106734242547935 [6.93577232e+02 6.96519810e+02 6.99156710e+02 1.24984431e+06]\n",
      "error given by svd: 7221.963609201334\n"
     ]
    }
   ],
   "source": [
    "## Save SVD solutions\n",
    "from scipy.sparse.linalg import svds\n",
    "import numpy.linalg as LA\n",
    "data_dir = \"../syn_dataset/\"\n",
    "syn_vals = [0.000140, 0.00143, 0.01447, 0.05705, 0.09950]\n",
    "r = 50\n",
    "svds_vals = {}\n",
    "for snr_val in syn_vals:\n",
    "    tmp = np.load(f\"{data_dir}syn_noise_{snr_val:.5f}_all.npy\", allow_pickle=True).all()\n",
    "    print(np.min(tmp['X']), snr_val)\n",
    "    data_mat = tmp['X']\n",
    "    tmp_svd_error = {}\n",
    "    for latent_dim in [50, 100, 200, 400, 500]:\n",
    "        ueig, s, vteig = svds(data_mat, latent_dim)\n",
    "        print(\"latent dim \", latent_dim)\n",
    "        print(\"min and max val of ueig \", np.min(ueig), np.max(ueig))\n",
    "        print(\"min and max val of veig and s[-4:]\", np.min(vteig), np.max(vteig), s[-4:])\n",
    "        tmp_svd_error[f\"{latent_dim}\"] = LA.norm(data_mat - ueig@np.diag(s) @ vteig)\n",
    "        print(\"error given by svd:\", tmp_svd_error[f\"{latent_dim}\"] )\n",
    "    svds_vals[f\"{snr_val:.5f}\"] = tmp_svd_error\n",
    "np.save(\"syn_noise_svds.npy\", svds_vals)"
   ]
  },
  {
   "cell_type": "code",
   "execution_count": null,
   "metadata": {},
   "outputs": [],
   "source": [
    "np.random.seed(1)\n",
    "### 0.01 is the standard deviation\n",
    "N = np.random.normal(0, 0.01,(5000, 5000))\n",
    "W = np.random.uniform(0, 1, (5000, 1000))\n",
    "H = np.random.uniform(0, 1, (1000, 5000))\n",
    "#cal_SNR = np.var(W@H)\n",
    "print(np.var(W@H), np.std(W@H), 0.01/np.std(W@H))\n",
    "X = W @ H + N"
   ]
  },
  {
   "cell_type": "code",
   "execution_count": null,
   "metadata": {},
   "outputs": [
    {
     "name": "stdout",
     "output_type": "stream",
     "text": [
      "SNR val: 0.0\n",
      "ratio: 10.0\n"
     ]
    }
   ],
   "source": [
    "import math\n",
    "\n",
    "def cal_SNR(ratio, SNR_val):\n",
    "    tmp_val = 20 * math.log10(ratio)\n",
    "    print(\"SNR val:\", tmp_val)\n",
    "    print(\"ratio:\", 10**(SNR_val/20))\n",
    "    \n",
    "cal_SNR(1, 20)"
   ]
  },
  {
   "cell_type": "code",
   "execution_count": 10,
   "metadata": {},
   "outputs": [
    {
     "data": {
      "text/plain": [
       "(array([2.760000e+02, 2.426100e+04, 5.133490e+05, 3.611234e+06,\n",
       "        9.067851e+06, 8.368308e+06, 2.973428e+06, 4.182530e+05,\n",
       "        2.264800e+04, 3.920000e+02]),\n",
       " array([214.59753162, 221.78077776, 228.9640239 , 236.14727004,\n",
       "        243.33051619, 250.51376233, 257.69700847, 264.88025461,\n",
       "        272.06350075, 279.24674689, 286.42999303]),\n",
       " <a list of 10 Patch objects>)"
      ]
     },
     "execution_count": 10,
     "metadata": {},
     "output_type": "execute_result"
    },
    {
     "data": {
      "image/png": "[encoded data removed]",
      "text/plain": [
       "<Figure size 432x288 with 1 Axes>"
      ]
     },
     "metadata": {
      "needs_background": "light"
     },
     "output_type": "display_data"
    }
   ],
   "source": [
    "plt.hist(X.flatten())"
   ]
  },
  {
   "cell_type": "code",
   "execution_count": 7,
   "metadata": {},
   "outputs": [
    {
     "data": {
      "text/plain": [
       "(array([1.560000e+02, 1.462300e+04, 4.177090e+05, 3.616907e+06,\n",
       "        9.840967e+06, 8.544189e+06, 2.356238e+06, 2.037750e+05,\n",
       "        5.397000e+03, 3.900000e+01]),\n",
       " array([-0.05490828, -0.04364695, -0.03238563, -0.0211243 , -0.00986297,\n",
       "         0.00139835,  0.01265968,  0.02392101,  0.03518233,  0.04644366,\n",
       "         0.05770499]),\n",
       " <a list of 10 Patch objects>)"
      ]
     },
     "execution_count": 7,
     "metadata": {},
     "output_type": "execute_result"
    },
    {
     "data": {
      "image/png": "[encoded data removed]",
      "text/plain": [
       "<Figure size 432x288 with 1 Axes>"
      ]
     },
     "metadata": {
      "needs_background": "light"
     },
     "output_type": "display_data"
    }
   ],
   "source": [
    "plt.hist(N.flatten())"
   ]
  }
 ],
 "metadata": {
  "kernelspec": {
   "display_name": "Python 3",
   "language": "python",
   "name": "python3"
  },
  "language_info": {
   "codemirror_mode": {
    "name": "ipython",
    "version": 3
   },
   "file_extension": ".py",
   "mimetype": "text/x-python",
   "name": "python",
   "nbconvert_exporter": "python",
   "pygments_lexer": "ipython3",
   "version": "3.6.5"
  },
  "toc": {
   "base_numbering": 1,
   "nav_menu": {},
   "number_sections": true,
   "sideBar": true,
   "skip_h1_title": false,
   "title_cell": "Table of Contents",
   "title_sidebar": "Contents",
   "toc_cell": false,
   "toc_position": {},
   "toc_section_display": true,
   "toc_window_display": false
  }
 },
 "nbformat": 4,
 "nbformat_minor": 4
}
